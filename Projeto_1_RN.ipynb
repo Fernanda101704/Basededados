{
  "nbformat": 4,
  "nbformat_minor": 0,
  "metadata": {
    "colab": {
      "name": "Projeto 1 RN.ipynb",
      "provenance": [],
      "collapsed_sections": [],
      "authorship_tag": "ABX9TyPr/IqMHPEAod/rooTAmcvS",
      "include_colab_link": true
    },
    "kernelspec": {
      "name": "python3",
      "display_name": "Python 3"
    },
    "language_info": {
      "name": "python"
    }
  },
  "cells": [
    {
      "cell_type": "markdown",
      "metadata": {
        "id": "view-in-github",
        "colab_type": "text"
      },
      "source": [
        "<a href=\"https://colab.research.google.com/github/Fernanda101704/Redes_Neurais_2021/blob/main/Projeto_1_RN.ipynb\" target=\"_parent\"><img src=\"https://colab.research.google.com/assets/colab-badge.svg\" alt=\"Open In Colab\"/></a>"
      ]
    },
    {
      "cell_type": "code",
      "metadata": {
        "id": "1Dnn5My4tqNF"
      },
      "source": [
        "# Projeto 1: Disciplina de Redes Neurais - UFU\n",
        "# Professor: Ubirajara Coutinho Filho\n",
        "# Tema: Modelagem de Rede Neural Artificial para Adsorção de Corantes de solução aquosa usando carbono de casca de arroz (artigo)\n",
        "# Autores do artigo: R. D. Khonde e S. L. Pandharipande\n",
        "# Aluna: Fernanda Silva Pimenta\n",
        "# Data: 12/05/2021\n",
        "#\n",
        "# Inicialmente é necessário definir as bibliotecas que serão utilizadas para a execução do código corretamente:\n",
        "import numpy as np\n",
        "# numpy é a biblioteca numérica do Phyton e no código ela é denominada de np\n",
        "import pandas as pd\n",
        "# pandas é a biblioteca responsável pela manipulação de arquivos e no código ela é denominada de pd\n",
        "import matplotlib.pyplot as plt\n",
        "# matplotlib.pyplot é a biblioteca usada para fazer gráficos no Phyton e permite fazer as configurações do gráfico, como cor, formato, etc\n",
        "from sklearn.neural_network import MLPRegressor\n",
        "# sklearn.neural_network é a biblioteca usada para fazer classificação e regressão, neste caso, ela faz a regressão (MLPRegressor) pois, as variáveis avaliadas no artigo são contínuas\n",
        "from sklearn.metrics import mean_squared_error\n",
        "# Essa biblioteca é usada para fazer a soma dos quadrados dos desvios\n",
        "from sklearn.metrics import r2_score \n",
        "# Essa biblioteca foi criada para avaliar se o ajuste está bom através do coeficiente de determinação, visto que quanto mais próximo de 1 (geralmente) melhor é o ajuste\n",
        "\n"
      ],
      "execution_count": 65,
      "outputs": []
    },
    {
      "cell_type": "code",
      "metadata": {
        "colab": {
          "base_uri": "https://localhost:8080/"
        },
        "id": "j_bDG7pxRQ8h",
        "outputId": "4f4d70b2-fef2-4fd8-9af7-09d8ce46d1d1"
      },
      "source": [
        "print(\"Você sabe o que é adsorção? A adsorção é um dos processos industriais mais importantes usados para remoção de cor, odor, turbidez e redução de DQO de alguns materiais. Você já ouviu falar sobre a adsorção usando a casca de arroz?\")\n",
        "print(\"Não perca tempo e venha aprender sobre esse assunto com o código abaixo! Você não vai se arrepender ;)\")"
      ],
      "execution_count": 66,
      "outputs": [
        {
          "output_type": "stream",
          "text": [
            "Você sabe o que é adsorção? A adsorção é um dos processos industriais mais importantes usados para remoção de cor, odor, turbidez e redução de DQO de alguns materiais. Você já ouviu falar sobre a adsorção usando a casca de arroz?\n",
            "Não perca tempo e venha aprender sobre esse assunto com o código abaixo! Você não vai se arrepender ;)\n"
          ],
          "name": "stdout"
        }
      ]
    },
    {
      "cell_type": "code",
      "metadata": {
        "colab": {
          "base_uri": "https://localhost:8080/"
        },
        "id": "rV4-UGdkMFG9",
        "outputId": "654b76ec-05e7-43df-dccf-b624aa621beb"
      },
      "source": [
        "print('Os dados apresentados na tabela csv foram extraídos do artigo estudado, no qual Abs = tipo de adsorvato; IC = Concentração inicial' )\n",
        "print('AA= quantidade de adsorvente; AD = quantidade de adsorvato adsorvido por unidade de adsorvente; PRA = porcentagem de adsorção experimental')\n",
        "print('MDL = porcentagem de adsorção predita')"
      ],
      "execution_count": 67,
      "outputs": [
        {
          "output_type": "stream",
          "text": [
            "Os dados apresentados na tabela csv foram extraídos do artigo estudado, no qual Abs = tipo de adsorvato; IC = Concentração inicial\n",
            "AA= quantidade de adsorvente; AD = quantidade de adsorvato adsorvido por unidade de adsorvente; PRA = porcentagem de adsorção experimental\n",
            "MDL = porcentagem de adsorção predita\n"
          ],
          "name": "stdout"
        }
      ]
    },
    {
      "cell_type": "code",
      "metadata": {
        "id": "5qZF3TZHz3G0"
      },
      "source": [
        "%matplotlib inline\n",
        "# Esse comando indica a construção de gráficos no browser entretanto, mesmo sem essa linha o Phyton geraria o gráfico normalmente\n",
        "# Usa-se o % quando os comandos não são necessariamente do Phyton, sendo necessário indicar dessa forma"
      ],
      "execution_count": 68,
      "outputs": []
    },
    {
      "cell_type": "code",
      "metadata": {
        "colab": {
          "base_uri": "https://localhost:8080/"
        },
        "id": "zCIcjkxQnmHx",
        "outputId": "6ef54c18-7b6b-4076-b174-38c4535f8678"
      },
      "source": [
        "!git clone https://github.com/Fernanda101704/Redes_Neurais_2021\n",
        "%cd Redes_Neurais_2021\n",
        "# Esse comando é usado para criar uma cópia de um repositório ou parte específica dentro de um repositório, nesse caso foi criado uma cópia da pasta Redes_Neurais_2021"
      ],
      "execution_count": 69,
      "outputs": [
        {
          "output_type": "stream",
          "text": [
            "Cloning into 'Redes_Neurais_2021'...\n",
            "remote: Enumerating objects: 55, done.\u001b[K\n",
            "remote: Counting objects: 100% (55/55), done.\u001b[K\n",
            "remote: Compressing objects: 100% (55/55), done.\u001b[K\n",
            "remote: Total 55 (delta 26), reused 0 (delta 0), pack-reused 0\u001b[K\n",
            "Unpacking objects: 100% (55/55), done.\n",
            "/content/Redes_Neurais_2021/Redes_Neurais_2021\n"
          ],
          "name": "stdout"
        }
      ]
    },
    {
      "cell_type": "code",
      "metadata": {
        "colab": {
          "base_uri": "https://localhost:8080/"
        },
        "id": "z6G2Ckzenw7I",
        "outputId": "b9209942-029a-4d0b-a68a-67e653e32f3f"
      },
      "source": [
        "# Leitura dos dados do artigo através de uma planilha do Excel\n",
        "# Vale ressaltar que, deve-se inserir a planilha de dados no Github, de modo que o arquivo esteja salvo no formato csv (comma separated values)\n",
        "# O formato csv contribui para que os dados não sejam corrompidos e possam ser lidos com facilidade no Phyton  \n",
        "# Nesse caso, foi utilizado o delimiter para arrumar a planilha de dados para as colunas não ficarem separadas pelo ';'\n",
        "# A separação das colunas por ; prejudica a separação dos dados e a execução dos demais comandos do código\n",
        "df=pd.read_csv(\"Dados totais.csv\",delimiter=';')\n",
        "print(df.head(22))\n",
        "# O comando print faz a impressão na tela das 22 linhas da tabela e todas as colunas"
      ],
      "execution_count": 70,
      "outputs": [
        {
          "output_type": "stream",
          "text": [
            "    Abs    IC    AA      AD     PRA     MDL    Tipo\n",
            "0    30  1000   8.0  11.562   92.50  90.389   teste\n",
            "1    60   100   8.0   1.224   97.92  97.909   teste\n",
            "2    80   500   2.5  19.875   99.38  99.929   teste\n",
            "3    90   500   1.5  33.021   99.06  99.892   teste\n",
            "4    30  1000   2.0  39.000   78.00  77.534  treino\n",
            "5    30  1000   4.0  21.500   86.00  87.845  treino\n",
            "6    30  1000   6.0  14.916   89.50  88.679  treino\n",
            "7    30  1000  10.0   9.375   93.75  93.050  treino\n",
            "8    60   100   2.0   3.850   77.00  76.971  treino\n",
            "9    60   100   4.0   2.188   87.50  88.442  treino\n",
            "10   60   100   6.0   1.576   94.58  95.991  treino\n",
            "11   60   100  10.0   0.988   98.75  98.133  treino\n",
            "12   80   500   0.5  98.750   98.75  97.930  treino\n",
            "13   80   500   1.0  49.583   99.17  99.677  treino\n",
            "14   80   500   1.5  33.056   99.17  99.865  treino\n",
            "15   80   500   2.0  24.844   99.38  99.910  treino\n",
            "16   80   500   3.0  16.597   99.58  99.939  treino\n",
            "17   80   500   4.0  12.448   99.58  99.951  treino\n",
            "18   90   500   1.0  48.464   96.93  99.768  treino\n",
            "19   90   500   2.0  24.974   99.90  99.924  treino\n",
            "20   90   500   2.5  19.990   99.95  99.937  treino\n",
            "21   90   500   3.0  16.667  100.00  99.945  treino\n"
          ],
          "name": "stdout"
        }
      ]
    },
    {
      "cell_type": "code",
      "metadata": {
        "id": "-248Ngqg2HRg",
        "colab": {
          "base_uri": "https://localhost:8080/",
          "height": 731
        },
        "outputId": "ec357454-875c-48a2-bbc2-7f21044a7e05"
      },
      "source": [
        "# Separa as colunas de interesse, imprimindo todas as linhas e as colunas indicadas no Index (lista)\n",
        "# Nesse caso, pediu-se para imprimir somente as colunas de interesse que são as respostas geradas experimentalmente e por predição\n",
        "# DS representa uma lista e o comando iloc (index location) localiza os dados de interesse para análise e o comando .copy() serve para que sejam feitas associações lógicas\n",
        "# O Index é uma lista que possui somente as colunas 0,1,2,4,5, vale lembrar que no Phyton a contagem das colunas começa do 0\n",
        "Index=[0,1,2,4,5]\n",
        "DS=[]\n",
        "DS=df.iloc[:,Index].copy()\n",
        "DS.head(22)"
      ],
      "execution_count": 71,
      "outputs": [
        {
          "output_type": "execute_result",
          "data": {
            "text/html": [
              "<div>\n",
              "<style scoped>\n",
              "    .dataframe tbody tr th:only-of-type {\n",
              "        vertical-align: middle;\n",
              "    }\n",
              "\n",
              "    .dataframe tbody tr th {\n",
              "        vertical-align: top;\n",
              "    }\n",
              "\n",
              "    .dataframe thead th {\n",
              "        text-align: right;\n",
              "    }\n",
              "</style>\n",
              "<table border=\"1\" class=\"dataframe\">\n",
              "  <thead>\n",
              "    <tr style=\"text-align: right;\">\n",
              "      <th></th>\n",
              "      <th>Abs</th>\n",
              "      <th>IC</th>\n",
              "      <th>AA</th>\n",
              "      <th>PRA</th>\n",
              "      <th>MDL</th>\n",
              "    </tr>\n",
              "  </thead>\n",
              "  <tbody>\n",
              "    <tr>\n",
              "      <th>0</th>\n",
              "      <td>30</td>\n",
              "      <td>1000</td>\n",
              "      <td>8.0</td>\n",
              "      <td>92.50</td>\n",
              "      <td>90.389</td>\n",
              "    </tr>\n",
              "    <tr>\n",
              "      <th>1</th>\n",
              "      <td>60</td>\n",
              "      <td>100</td>\n",
              "      <td>8.0</td>\n",
              "      <td>97.92</td>\n",
              "      <td>97.909</td>\n",
              "    </tr>\n",
              "    <tr>\n",
              "      <th>2</th>\n",
              "      <td>80</td>\n",
              "      <td>500</td>\n",
              "      <td>2.5</td>\n",
              "      <td>99.38</td>\n",
              "      <td>99.929</td>\n",
              "    </tr>\n",
              "    <tr>\n",
              "      <th>3</th>\n",
              "      <td>90</td>\n",
              "      <td>500</td>\n",
              "      <td>1.5</td>\n",
              "      <td>99.06</td>\n",
              "      <td>99.892</td>\n",
              "    </tr>\n",
              "    <tr>\n",
              "      <th>4</th>\n",
              "      <td>30</td>\n",
              "      <td>1000</td>\n",
              "      <td>2.0</td>\n",
              "      <td>78.00</td>\n",
              "      <td>77.534</td>\n",
              "    </tr>\n",
              "    <tr>\n",
              "      <th>5</th>\n",
              "      <td>30</td>\n",
              "      <td>1000</td>\n",
              "      <td>4.0</td>\n",
              "      <td>86.00</td>\n",
              "      <td>87.845</td>\n",
              "    </tr>\n",
              "    <tr>\n",
              "      <th>6</th>\n",
              "      <td>30</td>\n",
              "      <td>1000</td>\n",
              "      <td>6.0</td>\n",
              "      <td>89.50</td>\n",
              "      <td>88.679</td>\n",
              "    </tr>\n",
              "    <tr>\n",
              "      <th>7</th>\n",
              "      <td>30</td>\n",
              "      <td>1000</td>\n",
              "      <td>10.0</td>\n",
              "      <td>93.75</td>\n",
              "      <td>93.050</td>\n",
              "    </tr>\n",
              "    <tr>\n",
              "      <th>8</th>\n",
              "      <td>60</td>\n",
              "      <td>100</td>\n",
              "      <td>2.0</td>\n",
              "      <td>77.00</td>\n",
              "      <td>76.971</td>\n",
              "    </tr>\n",
              "    <tr>\n",
              "      <th>9</th>\n",
              "      <td>60</td>\n",
              "      <td>100</td>\n",
              "      <td>4.0</td>\n",
              "      <td>87.50</td>\n",
              "      <td>88.442</td>\n",
              "    </tr>\n",
              "    <tr>\n",
              "      <th>10</th>\n",
              "      <td>60</td>\n",
              "      <td>100</td>\n",
              "      <td>6.0</td>\n",
              "      <td>94.58</td>\n",
              "      <td>95.991</td>\n",
              "    </tr>\n",
              "    <tr>\n",
              "      <th>11</th>\n",
              "      <td>60</td>\n",
              "      <td>100</td>\n",
              "      <td>10.0</td>\n",
              "      <td>98.75</td>\n",
              "      <td>98.133</td>\n",
              "    </tr>\n",
              "    <tr>\n",
              "      <th>12</th>\n",
              "      <td>80</td>\n",
              "      <td>500</td>\n",
              "      <td>0.5</td>\n",
              "      <td>98.75</td>\n",
              "      <td>97.930</td>\n",
              "    </tr>\n",
              "    <tr>\n",
              "      <th>13</th>\n",
              "      <td>80</td>\n",
              "      <td>500</td>\n",
              "      <td>1.0</td>\n",
              "      <td>99.17</td>\n",
              "      <td>99.677</td>\n",
              "    </tr>\n",
              "    <tr>\n",
              "      <th>14</th>\n",
              "      <td>80</td>\n",
              "      <td>500</td>\n",
              "      <td>1.5</td>\n",
              "      <td>99.17</td>\n",
              "      <td>99.865</td>\n",
              "    </tr>\n",
              "    <tr>\n",
              "      <th>15</th>\n",
              "      <td>80</td>\n",
              "      <td>500</td>\n",
              "      <td>2.0</td>\n",
              "      <td>99.38</td>\n",
              "      <td>99.910</td>\n",
              "    </tr>\n",
              "    <tr>\n",
              "      <th>16</th>\n",
              "      <td>80</td>\n",
              "      <td>500</td>\n",
              "      <td>3.0</td>\n",
              "      <td>99.58</td>\n",
              "      <td>99.939</td>\n",
              "    </tr>\n",
              "    <tr>\n",
              "      <th>17</th>\n",
              "      <td>80</td>\n",
              "      <td>500</td>\n",
              "      <td>4.0</td>\n",
              "      <td>99.58</td>\n",
              "      <td>99.951</td>\n",
              "    </tr>\n",
              "    <tr>\n",
              "      <th>18</th>\n",
              "      <td>90</td>\n",
              "      <td>500</td>\n",
              "      <td>1.0</td>\n",
              "      <td>96.93</td>\n",
              "      <td>99.768</td>\n",
              "    </tr>\n",
              "    <tr>\n",
              "      <th>19</th>\n",
              "      <td>90</td>\n",
              "      <td>500</td>\n",
              "      <td>2.0</td>\n",
              "      <td>99.90</td>\n",
              "      <td>99.924</td>\n",
              "    </tr>\n",
              "    <tr>\n",
              "      <th>20</th>\n",
              "      <td>90</td>\n",
              "      <td>500</td>\n",
              "      <td>2.5</td>\n",
              "      <td>99.95</td>\n",
              "      <td>99.937</td>\n",
              "    </tr>\n",
              "    <tr>\n",
              "      <th>21</th>\n",
              "      <td>90</td>\n",
              "      <td>500</td>\n",
              "      <td>3.0</td>\n",
              "      <td>100.00</td>\n",
              "      <td>99.945</td>\n",
              "    </tr>\n",
              "  </tbody>\n",
              "</table>\n",
              "</div>"
            ],
            "text/plain": [
              "    Abs    IC    AA     PRA     MDL\n",
              "0    30  1000   8.0   92.50  90.389\n",
              "1    60   100   8.0   97.92  97.909\n",
              "2    80   500   2.5   99.38  99.929\n",
              "3    90   500   1.5   99.06  99.892\n",
              "4    30  1000   2.0   78.00  77.534\n",
              "5    30  1000   4.0   86.00  87.845\n",
              "6    30  1000   6.0   89.50  88.679\n",
              "7    30  1000  10.0   93.75  93.050\n",
              "8    60   100   2.0   77.00  76.971\n",
              "9    60   100   4.0   87.50  88.442\n",
              "10   60   100   6.0   94.58  95.991\n",
              "11   60   100  10.0   98.75  98.133\n",
              "12   80   500   0.5   98.75  97.930\n",
              "13   80   500   1.0   99.17  99.677\n",
              "14   80   500   1.5   99.17  99.865\n",
              "15   80   500   2.0   99.38  99.910\n",
              "16   80   500   3.0   99.58  99.939\n",
              "17   80   500   4.0   99.58  99.951\n",
              "18   90   500   1.0   96.93  99.768\n",
              "19   90   500   2.0   99.90  99.924\n",
              "20   90   500   2.5   99.95  99.937\n",
              "21   90   500   3.0  100.00  99.945"
            ]
          },
          "metadata": {
            "tags": []
          },
          "execution_count": 71
        }
      ]
    },
    {
      "cell_type": "code",
      "metadata": {
        "id": "oFcR0He844j-"
      },
      "source": [
        "# Agora é necessário aplicar a função de normalizar/padronizar os dados através da funcao_normatiza_dados\n",
        "# A função normatiza serve para normatizar os dados, ou seja,transformar todas as variáveis na mesma ordem de grandeza\n",
        "# Nota-se que existe um comando para identificar o valor máximo e o mínimo, a fim de que seja possível calcular a e b que possibilitem o cálculo dos valores normalizados\n",
        "# A váriavel codificada é = a+b*(x original)\n",
        "def funcao_normatiza_dados(x):\n",
        "    strings=list(x)\n",
        "    for i in strings:\n",
        "        max_x=x[i].max()\n",
        "        min_x=x[i].min()\n",
        "        a=(max_x+min_x)/2\n",
        "        b=(max_x-min_x)/2\n",
        "        x[i]=(x[i]-a)/b\n",
        "    return x"
      ],
      "execution_count": 72,
      "outputs": []
    },
    {
      "cell_type": "code",
      "metadata": {
        "id": "RjkSmY5V5XKV"
      },
      "source": [
        "# Além da forma normalizada/padronizada também é importante possuir os dados na forma original, desse modo, após a normalização foi feita a transformação a seguir\n",
        "# A funcao_dados_originais retorna os dados a forma original\n",
        "def funcao_dados_originais(x,x_old):\n",
        "    strings=list(x)\n",
        "    for i in strings:\n",
        "        max_x=x_old[i].max()\n",
        "        min_x=x_old[i].min()\n",
        "        a=(max_x+min_x)/2\n",
        "        b=(max_x-min_x)/2\n",
        "        x[i]=x[i]*b+a\n",
        "    return x"
      ],
      "execution_count": 73,
      "outputs": []
    },
    {
      "cell_type": "code",
      "metadata": {
        "id": "xvkTbwUx5bu6"
      },
      "source": [
        "# Agora foi feito a separação dos dados em normalizados e originais \n",
        "# Inicialmente foi criado uma lista vazia com DAT_2 e, em seguida, chamou-se a função (funcao_normatiza_dados), inserindo os dados DS nesta função\n",
        "DAT_2=[]\n",
        "DAT_2=DS.copy()\n",
        "DAT=funcao_normatiza_dados (DS) "
      ],
      "execution_count": 74,
      "outputs": []
    },
    {
      "cell_type": "code",
      "metadata": {
        "colab": {
          "base_uri": "https://localhost:8080/",
          "height": 142
        },
        "id": "N89TfNG_572q",
        "outputId": "cb4e8c69-f93e-4432-ca70-fa9fd4d54e70"
      },
      "source": [
        "DS.head(3)\n",
        "# Esse comando foi realizado para verificar se o comando anterior está correto\n",
        "# head(3) é o comando que possibilita analisar os 3 primeiros dados das colunas de interesse\n",
        "# Nota-se que a normalização deu certo, pois os valores estão compreendidos entre +1 e -1"
      ],
      "execution_count": 75,
      "outputs": [
        {
          "output_type": "execute_result",
          "data": {
            "text/html": [
              "<div>\n",
              "<style scoped>\n",
              "    .dataframe tbody tr th:only-of-type {\n",
              "        vertical-align: middle;\n",
              "    }\n",
              "\n",
              "    .dataframe tbody tr th {\n",
              "        vertical-align: top;\n",
              "    }\n",
              "\n",
              "    .dataframe thead th {\n",
              "        text-align: right;\n",
              "    }\n",
              "</style>\n",
              "<table border=\"1\" class=\"dataframe\">\n",
              "  <thead>\n",
              "    <tr style=\"text-align: right;\">\n",
              "      <th></th>\n",
              "      <th>Abs</th>\n",
              "      <th>IC</th>\n",
              "      <th>AA</th>\n",
              "      <th>PRA</th>\n",
              "      <th>MDL</th>\n",
              "    </tr>\n",
              "  </thead>\n",
              "  <tbody>\n",
              "    <tr>\n",
              "      <th>0</th>\n",
              "      <td>-1.000000</td>\n",
              "      <td>1.000000</td>\n",
              "      <td>0.578947</td>\n",
              "      <td>0.347826</td>\n",
              "      <td>0.167798</td>\n",
              "    </tr>\n",
              "    <tr>\n",
              "      <th>1</th>\n",
              "      <td>0.000000</td>\n",
              "      <td>-1.000000</td>\n",
              "      <td>0.578947</td>\n",
              "      <td>0.819130</td>\n",
              "      <td>0.822280</td>\n",
              "    </tr>\n",
              "    <tr>\n",
              "      <th>2</th>\n",
              "      <td>0.666667</td>\n",
              "      <td>-0.111111</td>\n",
              "      <td>-0.578947</td>\n",
              "      <td>0.946087</td>\n",
              "      <td>0.998085</td>\n",
              "    </tr>\n",
              "  </tbody>\n",
              "</table>\n",
              "</div>"
            ],
            "text/plain": [
              "        Abs        IC        AA       PRA       MDL\n",
              "0 -1.000000  1.000000  0.578947  0.347826  0.167798\n",
              "1  0.000000 -1.000000  0.578947  0.819130  0.822280\n",
              "2  0.666667 -0.111111 -0.578947  0.946087  0.998085"
            ]
          },
          "metadata": {
            "tags": []
          },
          "execution_count": 75
        }
      ]
    },
    {
      "cell_type": "code",
      "metadata": {
        "id": "fCDgWnPd8sDJ"
      },
      "source": [
        "# Agora os dados serão separados em treino e teste\n",
        "# Nota-se que o 'sample' é um comando responsável por misturar os dados, a fim de que não fiquem tendenciosos\n",
        "# Além disso, o frac = 0.8 significa que 80% dos dados serão utilizados para treino e 20 % para teste. Já o random_state serve para aleatorizar os dados\n",
        "# Vale ressaltar que o comando 'drop' é utilizado para indicar que os dados que não foram usados no teste, serão usados no treino, ou seja, 20% dos dados\n",
        "train=DAT.sample(frac=0.8,random_state=None) \n",
        "test=DAT.drop(train.index)"
      ],
      "execution_count": 76,
      "outputs": []
    },
    {
      "cell_type": "code",
      "metadata": {
        "colab": {
          "base_uri": "https://localhost:8080/",
          "height": 142
        },
        "id": "qFQ7vjLR84u9",
        "outputId": "81aeaaa8-f78c-43a8-ad18-28abc8cd3afc"
      },
      "source": [
        "train.head(3)\n",
        "# Usou-se esse comando para conferir se o comando anterior estava rodando corretamente"
      ],
      "execution_count": 77,
      "outputs": [
        {
          "output_type": "execute_result",
          "data": {
            "text/html": [
              "<div>\n",
              "<style scoped>\n",
              "    .dataframe tbody tr th:only-of-type {\n",
              "        vertical-align: middle;\n",
              "    }\n",
              "\n",
              "    .dataframe tbody tr th {\n",
              "        vertical-align: top;\n",
              "    }\n",
              "\n",
              "    .dataframe thead th {\n",
              "        text-align: right;\n",
              "    }\n",
              "</style>\n",
              "<table border=\"1\" class=\"dataframe\">\n",
              "  <thead>\n",
              "    <tr style=\"text-align: right;\">\n",
              "      <th></th>\n",
              "      <th>Abs</th>\n",
              "      <th>IC</th>\n",
              "      <th>AA</th>\n",
              "      <th>PRA</th>\n",
              "      <th>MDL</th>\n",
              "    </tr>\n",
              "  </thead>\n",
              "  <tbody>\n",
              "    <tr>\n",
              "      <th>1</th>\n",
              "      <td>0.0</td>\n",
              "      <td>-1.000000</td>\n",
              "      <td>0.578947</td>\n",
              "      <td>0.819130</td>\n",
              "      <td>0.822280</td>\n",
              "    </tr>\n",
              "    <tr>\n",
              "      <th>6</th>\n",
              "      <td>-1.0</td>\n",
              "      <td>1.000000</td>\n",
              "      <td>0.157895</td>\n",
              "      <td>0.086957</td>\n",
              "      <td>0.018973</td>\n",
              "    </tr>\n",
              "    <tr>\n",
              "      <th>18</th>\n",
              "      <td>1.0</td>\n",
              "      <td>-0.111111</td>\n",
              "      <td>-0.894737</td>\n",
              "      <td>0.733043</td>\n",
              "      <td>0.984073</td>\n",
              "    </tr>\n",
              "  </tbody>\n",
              "</table>\n",
              "</div>"
            ],
            "text/plain": [
              "    Abs        IC        AA       PRA       MDL\n",
              "1   0.0 -1.000000  0.578947  0.819130  0.822280\n",
              "6  -1.0  1.000000  0.157895  0.086957  0.018973\n",
              "18  1.0 -0.111111 -0.894737  0.733043  0.984073"
            ]
          },
          "metadata": {
            "tags": []
          },
          "execution_count": 77
        }
      ]
    },
    {
      "cell_type": "code",
      "metadata": {
        "colab": {
          "base_uri": "https://localhost:8080/",
          "height": 142
        },
        "id": "mLM5wbFx9DYq",
        "outputId": "977b0df6-55bf-4c19-d290-b10cdfd532c4"
      },
      "source": [
        "test.head(3)\n",
        "# Usou-se esse comando para conferir se o comando anterior estava rodando corretamente"
      ],
      "execution_count": 78,
      "outputs": [
        {
          "output_type": "execute_result",
          "data": {
            "text/html": [
              "<div>\n",
              "<style scoped>\n",
              "    .dataframe tbody tr th:only-of-type {\n",
              "        vertical-align: middle;\n",
              "    }\n",
              "\n",
              "    .dataframe tbody tr th {\n",
              "        vertical-align: top;\n",
              "    }\n",
              "\n",
              "    .dataframe thead th {\n",
              "        text-align: right;\n",
              "    }\n",
              "</style>\n",
              "<table border=\"1\" class=\"dataframe\">\n",
              "  <thead>\n",
              "    <tr style=\"text-align: right;\">\n",
              "      <th></th>\n",
              "      <th>Abs</th>\n",
              "      <th>IC</th>\n",
              "      <th>AA</th>\n",
              "      <th>PRA</th>\n",
              "      <th>MDL</th>\n",
              "    </tr>\n",
              "  </thead>\n",
              "  <tbody>\n",
              "    <tr>\n",
              "      <th>5</th>\n",
              "      <td>-1.0</td>\n",
              "      <td>1.0</td>\n",
              "      <td>-0.263158</td>\n",
              "      <td>-0.217391</td>\n",
              "      <td>-0.053612</td>\n",
              "    </tr>\n",
              "    <tr>\n",
              "      <th>7</th>\n",
              "      <td>-1.0</td>\n",
              "      <td>1.0</td>\n",
              "      <td>1.000000</td>\n",
              "      <td>0.456522</td>\n",
              "      <td>0.399391</td>\n",
              "    </tr>\n",
              "    <tr>\n",
              "      <th>8</th>\n",
              "      <td>0.0</td>\n",
              "      <td>-1.0</td>\n",
              "      <td>-0.684211</td>\n",
              "      <td>-1.000000</td>\n",
              "      <td>-1.000000</td>\n",
              "    </tr>\n",
              "  </tbody>\n",
              "</table>\n",
              "</div>"
            ],
            "text/plain": [
              "   Abs   IC        AA       PRA       MDL\n",
              "5 -1.0  1.0 -0.263158 -0.217391 -0.053612\n",
              "7 -1.0  1.0  1.000000  0.456522  0.399391\n",
              "8  0.0 -1.0 -0.684211 -1.000000 -1.000000"
            ]
          },
          "metadata": {
            "tags": []
          },
          "execution_count": 78
        }
      ]
    },
    {
      "cell_type": "code",
      "metadata": {
        "id": "kGIKsgEP9PQ6"
      },
      "source": [
        "# Agora esse código será utilizado para obter as variaveis independentes (treino e teste)\n",
        "# Nota-se que através do comando iloc (index location) é possível localizar quais são os dados referentes a variáveis independentes\n",
        "# Nesse caso, foram escolhidas as variáveis Abs, IC e AA (colunas 0,1,2)\n",
        "x_train=train.iloc[:,[0,1,2]]\n",
        "x_test=test.iloc[:,[0,1,2]]\n",
        "X_2=DAT_2.iloc[:,[0,1,2]]"
      ],
      "execution_count": 79,
      "outputs": []
    },
    {
      "cell_type": "code",
      "metadata": {
        "id": "lZQqCzwC9g_j"
      },
      "source": [
        "# Agora foi definido a variável dependente porcentagem de adsorção (treino e teste)\n",
        "# Diante disso, selecionou-se somente a coluna 3 como sendo variável dependente\n",
        "# Para fins didáticos, optou-se por avaliar somente uma variável dependente, embora haja 2 relatadas no artigo\n",
        "Index=[4]\n",
        "y_train=train.iloc[:,Index]\n",
        "y_test=test.iloc[:,Index]\n",
        "Y_2=DAT_2.iloc[:,Index]"
      ],
      "execution_count": 80,
      "outputs": []
    },
    {
      "cell_type": "code",
      "metadata": {
        "id": "UZHSMH_V9leZ"
      },
      "source": [
        "# Diante do exposto, é necessário definir a rede neural \n",
        "# Inicialmente armazenou-se essa rede neural no nome adsorção, e utilizou-se o módulo MLPRegressor do sklearn, visto que é utilizado a função de regressão.\n",
        "# O solver utilizado foi o lbfgs, visto que o número de dados é pequeno para se usar o solver adam \n",
        "# A função de ativação utilizada foi a tangente hiperbólica \n",
        "# O alpha é um critério de parada diretamente ligado ao erro do processo, por isso, foi adotado um valor pequeno\n",
        "# Hidden_layer_size significa a quantidade de neurônios na camada oculta. O artigo cita que essa rede possui duas camadas, ambas com cinco neurônios cada.\n",
        "# O comando random_state serve para aleatorizar os dados\n",
        "adsorcao = MLPRegressor(solver='lbfgs',activation='tanh',alpha=1e-5,max_iter=100,\n",
        "                     hidden_layer_sizes=(5, 5),random_state=1)"
      ],
      "execution_count": 81,
      "outputs": []
    },
    {
      "cell_type": "code",
      "metadata": {
        "colab": {
          "base_uri": "https://localhost:8080/"
        },
        "id": "6DmQeD2u9pQa",
        "outputId": "e197e65d-d37b-41cb-99da-a22affa094b9"
      },
      "source": [
        "# Logo, é necessário treinar a rede neural construída\n",
        "# O comando 'fit' é usado para fazer o ajuste correto\n",
        "adsorcao.fit(x_train, y_train)"
      ],
      "execution_count": 82,
      "outputs": [
        {
          "output_type": "stream",
          "text": [
            "/usr/local/lib/python3.7/dist-packages/sklearn/neural_network/_multilayer_perceptron.py:1342: DataConversionWarning: A column-vector y was passed when a 1d array was expected. Please change the shape of y to (n_samples, ), for example using ravel().\n",
            "  y = column_or_1d(y, warn=True)\n"
          ],
          "name": "stderr"
        },
        {
          "output_type": "execute_result",
          "data": {
            "text/plain": [
              "MLPRegressor(activation='tanh', alpha=1e-05, batch_size='auto', beta_1=0.9,\n",
              "             beta_2=0.999, early_stopping=False, epsilon=1e-08,\n",
              "             hidden_layer_sizes=(5, 5), learning_rate='constant',\n",
              "             learning_rate_init=0.001, max_fun=15000, max_iter=100,\n",
              "             momentum=0.9, n_iter_no_change=10, nesterovs_momentum=True,\n",
              "             power_t=0.5, random_state=1, shuffle=True, solver='lbfgs',\n",
              "             tol=0.0001, validation_fraction=0.1, verbose=False,\n",
              "             warm_start=False)"
            ]
          },
          "metadata": {
            "tags": []
          },
          "execution_count": 82
        }
      ]
    },
    {
      "cell_type": "code",
      "metadata": {
        "id": "92d7Y0-x-GSn"
      },
      "source": [
        "# Validação em treino e teste, pois não há uma quantidade significativa de pontos para incluir uma validação\n",
        "# Usa a rede neural --> treina ela através de cálculos para treino e teste\n",
        "# Nessa parte do código a rede foi testada e foi feita uma predição da resposta (adsorcao.predict) \n",
        "y_calc_train=adsorcao.predict(x_train)\n",
        "y_calc_test=adsorcao.predict(x_test)"
      ],
      "execution_count": 83,
      "outputs": []
    },
    {
      "cell_type": "code",
      "metadata": {
        "id": "lbK8PrBl-K8K"
      },
      "source": [
        "# Nessa parte do código foi feito a transformação da saída da rede em dataframe (base de dados)\n",
        "# A resposta está sendo preparada para comparação \n",
        "y_calc_train=pd.DataFrame(y_calc_train)\n",
        "y_calc_test=pd.DataFrame(y_calc_test)\n",
        "col_names=list(y_train)\n",
        "y_calc_train.columns = col_names\n",
        "y_calc_test.columns = col_names"
      ],
      "execution_count": 84,
      "outputs": []
    },
    {
      "cell_type": "code",
      "metadata": {
        "id": "HnZL7GUfALwN"
      },
      "source": [
        "# Nessa parte do código é feita a transformação dos dados calculados para a forma original (não normalizado)\n",
        "# Ou seja, os dados retornam de valores entre -1 e 1 para o intervalo original do início\n",
        "y_calc_train=funcao_dados_originais(y_calc_train,Y_2)\n",
        "y_calc_test=funcao_dados_originais(y_calc_test,Y_2)"
      ],
      "execution_count": 85,
      "outputs": []
    },
    {
      "cell_type": "code",
      "metadata": {
        "id": "rdpvIAqLASxu"
      },
      "source": [
        "# recupera os dados originais \n",
        "test=[]\n",
        "train=[]\n",
        "train=funcao_dados_originais(y_train,Y_2)\n",
        "test=funcao_dados_originais(y_test,Y_2)"
      ],
      "execution_count": 86,
      "outputs": []
    },
    {
      "cell_type": "code",
      "metadata": {
        "colab": {
          "base_uri": "https://localhost:8080/",
          "height": 607
        },
        "id": "NO-sIx5tAcba",
        "outputId": "9fa1e46e-dae2-4a86-e8eb-758c16457011"
      },
      "source": [
        "train"
      ],
      "execution_count": 87,
      "outputs": [
        {
          "output_type": "execute_result",
          "data": {
            "text/html": [
              "<div>\n",
              "<style scoped>\n",
              "    .dataframe tbody tr th:only-of-type {\n",
              "        vertical-align: middle;\n",
              "    }\n",
              "\n",
              "    .dataframe tbody tr th {\n",
              "        vertical-align: top;\n",
              "    }\n",
              "\n",
              "    .dataframe thead th {\n",
              "        text-align: right;\n",
              "    }\n",
              "</style>\n",
              "<table border=\"1\" class=\"dataframe\">\n",
              "  <thead>\n",
              "    <tr style=\"text-align: right;\">\n",
              "      <th></th>\n",
              "      <th>MDL</th>\n",
              "    </tr>\n",
              "  </thead>\n",
              "  <tbody>\n",
              "    <tr>\n",
              "      <th>1</th>\n",
              "      <td>97.909</td>\n",
              "    </tr>\n",
              "    <tr>\n",
              "      <th>6</th>\n",
              "      <td>88.679</td>\n",
              "    </tr>\n",
              "    <tr>\n",
              "      <th>18</th>\n",
              "      <td>99.768</td>\n",
              "    </tr>\n",
              "    <tr>\n",
              "      <th>9</th>\n",
              "      <td>88.442</td>\n",
              "    </tr>\n",
              "    <tr>\n",
              "      <th>16</th>\n",
              "      <td>99.939</td>\n",
              "    </tr>\n",
              "    <tr>\n",
              "      <th>13</th>\n",
              "      <td>99.677</td>\n",
              "    </tr>\n",
              "    <tr>\n",
              "      <th>20</th>\n",
              "      <td>99.937</td>\n",
              "    </tr>\n",
              "    <tr>\n",
              "      <th>12</th>\n",
              "      <td>97.930</td>\n",
              "    </tr>\n",
              "    <tr>\n",
              "      <th>3</th>\n",
              "      <td>99.892</td>\n",
              "    </tr>\n",
              "    <tr>\n",
              "      <th>15</th>\n",
              "      <td>99.910</td>\n",
              "    </tr>\n",
              "    <tr>\n",
              "      <th>0</th>\n",
              "      <td>90.389</td>\n",
              "    </tr>\n",
              "    <tr>\n",
              "      <th>11</th>\n",
              "      <td>98.133</td>\n",
              "    </tr>\n",
              "    <tr>\n",
              "      <th>19</th>\n",
              "      <td>99.924</td>\n",
              "    </tr>\n",
              "    <tr>\n",
              "      <th>21</th>\n",
              "      <td>99.945</td>\n",
              "    </tr>\n",
              "    <tr>\n",
              "      <th>2</th>\n",
              "      <td>99.929</td>\n",
              "    </tr>\n",
              "    <tr>\n",
              "      <th>10</th>\n",
              "      <td>95.991</td>\n",
              "    </tr>\n",
              "    <tr>\n",
              "      <th>17</th>\n",
              "      <td>99.951</td>\n",
              "    </tr>\n",
              "    <tr>\n",
              "      <th>4</th>\n",
              "      <td>77.534</td>\n",
              "    </tr>\n",
              "  </tbody>\n",
              "</table>\n",
              "</div>"
            ],
            "text/plain": [
              "       MDL\n",
              "1   97.909\n",
              "6   88.679\n",
              "18  99.768\n",
              "9   88.442\n",
              "16  99.939\n",
              "13  99.677\n",
              "20  99.937\n",
              "12  97.930\n",
              "3   99.892\n",
              "15  99.910\n",
              "0   90.389\n",
              "11  98.133\n",
              "19  99.924\n",
              "21  99.945\n",
              "2   99.929\n",
              "10  95.991\n",
              "17  99.951\n",
              "4   77.534"
            ]
          },
          "metadata": {
            "tags": []
          },
          "execution_count": 87
        }
      ]
    },
    {
      "cell_type": "code",
      "metadata": {
        "id": "WF_bb1L4Awq4"
      },
      "source": [
        "# Nessa parte do código é escolhido uma das resposta para fazer o gráfico (treino)\n",
        "# Embora o artigo apresente 2 respostas, a resposta escolhida foi MDL = porcentagem de adsorção\n",
        "adsorcao_obs_train=[]\n",
        "adsorcao_calc_train=[]\n",
        "adsorcao_calc_train=y_calc_train['MDL'].copy()\n",
        "adsorcao_obs_train=train['MDL'].copy()"
      ],
      "execution_count": 88,
      "outputs": []
    },
    {
      "cell_type": "code",
      "metadata": {
        "id": "dr4HIAxLA8-t"
      },
      "source": [
        "# Nessa parte do código é escolhido uma das resposta para fazer o gráfico (teste)\n",
        "# Embora o artigo apresente 2 respostas, a resposta escolhida foi MDL = porcentagem de adsorção\n",
        "adsorcao_obs_test=[]\n",
        "adsorcao_calc_test=[]\n",
        "adsorcao_calc_test=y_calc_test['MDL'].copy()\n",
        "adsorcao_obs_test=test['MDL'].copy()"
      ],
      "execution_count": 89,
      "outputs": []
    },
    {
      "cell_type": "code",
      "metadata": {
        "colab": {
          "base_uri": "https://localhost:8080/",
          "height": 279
        },
        "id": "p1Bj0LWVBF9u",
        "outputId": "cd96ed1e-dda2-42db-a97b-7ec69bc01453"
      },
      "source": [
        "# expressa os dois dados em figura\n",
        "fig = plt.figure()\n",
        "ax1 = fig.add_subplot(111)\n",
        "\n",
        "ax1.scatter(adsorcao_obs_test,adsorcao_calc_test, s=20, c='b', marker=\"o\", label='teste')\n",
        "ax1.scatter(adsorcao_obs_train,adsorcao_calc_train, s=20, c='r', marker=\"o\", label='treino')\n",
        "plt.legend(loc='upper left')\n",
        "plt.ylabel('MDL Calculado')\n",
        "plt.xlabel('MDL Observado')\n",
        "plt.show()"
      ],
      "execution_count": 90,
      "outputs": [
        {
          "output_type": "display_data",
          "data": {
            "image/png": "[encoded data removed]",
            "text/plain": [
              "<Figure size 432x288 with 1 Axes>"
            ]
          },
          "metadata": {
            "tags": [],
            "needs_background": "light"
          }
        }
      ]
    },
    {
      "cell_type": "code",
      "metadata": {
        "colab": {
          "base_uri": "https://localhost:8080/"
        },
        "id": "abdO_0e6D_HU",
        "outputId": "324d23b7-403d-45cc-bb91-0fe7e2110fca"
      },
      "source": [
        "mse=mean_squared_error(adsorcao_obs_test,adsorcao_calc_test)\n",
        "print(\"MSE teste=\",mse)\n",
        "R2=r2_score(adsorcao_obs_test,adsorcao_calc_test)\n",
        "print(\"R^2 teste=\",R2)"
      ],
      "execution_count": 91,
      "outputs": [
        {
          "output_type": "stream",
          "text": [
            "MSE teste= 1.7359071224388556\n",
            "R^2 teste= 0.975177612643727\n"
          ],
          "name": "stdout"
        }
      ]
    },
    {
      "cell_type": "code",
      "metadata": {
        "colab": {
          "base_uri": "https://localhost:8080/"
        },
        "id": "N8mdNlDzEbCR",
        "outputId": "72bde08e-5a05-49e8-f8c5-5772731a4888"
      },
      "source": [
        "mse=mean_squared_error(adsorcao_obs_train,adsorcao_calc_train)\n",
        "print(\"MSE treino=\",mse)\n",
        "R2=r2_score(adsorcao_obs_train,adsorcao_calc_train)\n",
        "print(\"R^2 treino=\",R2)"
      ],
      "execution_count": 92,
      "outputs": [
        {
          "output_type": "stream",
          "text": [
            "MSE treino= 0.027936304072176264\n",
            "R^2 treino= 0.9992196242629642\n"
          ],
          "name": "stdout"
        }
      ]
    }
  ]
}